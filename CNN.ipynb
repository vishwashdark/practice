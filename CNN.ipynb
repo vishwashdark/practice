{
 "cells": [
  {
   "cell_type": "code",
   "execution_count": 3,
   "metadata": {},
   "outputs": [],
   "source": [
    "import pandas as pd\n",
    "import numpy as np\n",
    "import matplotlib.pyplot as plt"
   ]
  },
  {
   "cell_type": "code",
   "execution_count": 7,
   "metadata": {},
   "outputs": [
    {
     "data": {
      "image/png": "[encoded data removed]",
      "text/plain": [
       "<Figure size 640x480 with 1 Axes>"
      ]
     },
     "metadata": {},
     "output_type": "display_data"
    }
   ],
   "source": [
    "#Creating a black and white circle \n",
    "size=128\n",
    "image=np.zeros((size,size),dtype=np.uint8)\n",
    "center=(size/2,size/2)\n",
    "radius=25\n",
    "for y in range(size):\n",
    "    for x in range(size):\n",
    "        dist = np.sqrt((x - center[0]) ** 2 + (y - center[1]) ** 2)\n",
    "        if dist<=radius:\n",
    "            image[y,x]=255\n",
    "plt.imshow(image,cmap=\"gray\")\n",
    "plt.axis('off')\n",
    "plt.show()\n",
    "image_path='input_images/circle.jpg'\n",
    "plt.imsave(image_path,image,cmap='gray')\n"
   ]
  },
  {
   "cell_type": "code",
   "execution_count": 8,
   "metadata": {},
   "outputs": [],
   "source": [
    "# Create the image matrix (same as before)\n",
    "size = 128\n",
    "image = np.zeros((size, size), dtype=np.uint8)\n",
    "center = (size / 2, size / 2)\n",
    "radius = 25\n",
    "for y in range(size):\n",
    "    for x in range(size):\n",
    "        dist = np.sqrt((x - center[0]) ** 2 + (y - center[1]) ** 2)\n",
    "        if dist <= radius:\n",
    "            image[y, x] = 255\n",
    "df = pd.DataFrame(image)\n",
    "excel_path = 'CSV_files/circle_image_matrix_extracted.xlsx'\n",
    "df.to_excel(excel_path, index=False, header=False)"
   ]
  },
  {
   "cell_type": "code",
   "execution_count": 13,
   "metadata": {},
   "outputs": [],
   "source": [
    "def matrix(excel_path):\n",
    "    df=pd.read_excel(excel_path,header=None)\n",
    "    return df.to_numpy()\n",
    "\n",
    "matrix('CSV_files/circle_image_matrix_extracted.xlsx')\n",
    "def save_output_to_excel(output, output_path):\n",
    "    df = pd.DataFrame(output)\n",
    "    df.to_excel(output_path, index=False, header=False)"
   ]
  },
  {
   "cell_type": "code",
   "execution_count": 15,
   "metadata": {},
   "outputs": [],
   "source": [
    "def conv(input_image,Kernel,Stride=1,Padding=1):\n",
    "    Pad=np.pad(input_image,((Padding,Padding),(Padding,Padding)),mode='constant',constant_values=0)\n",
    "    output_h=(Pad.shape[0]-Kernel.shape[0])//Stride+1\n",
    "    output_w=(Pad.shape[1]-Kernel.shape[1])//Stride+1\n",
    "    output=np.zeros((output_h,output_w))\n",
    "    for i in range(0,output_h*Stride,Stride):\n",
    "        for j in range(0,output_w*Stride,Stride):\n",
    "            region=Pad[i:i+Kernel.shape[0],j:j+Kernel.shape[1]]\n",
    "            output[i//Stride,j//Stride]=np.sum(region*Kernel)\n",
    "    return output\n",
    "k=np.array([[1,0,-1],[1,0,-1],[1,0,-1]])\n",
    "input=matrix('CSV_files/circle_image_matrix_extracted.xlsx')\n",
    "op=conv(input,k,Stride=2)\n",
    "output_path = 'output_convolution_result,stride2.xlsx'\n",
    "save_output_to_excel(op, output_path)"
   ]
  },
  {
   "cell_type": "code",
   "execution_count": null,
   "metadata": {},
   "outputs": [],
   "source": []
  }
 ],
 "metadata": {
  "kernelspec": {
   "display_name": "Python 3",
   "language": "python",
   "name": "python3"
  },
  "language_info": {
   "codemirror_mode": {
    "name": "ipython",
    "version": 3
   },
   "file_extension": ".py",
   "mimetype": "text/x-python",
   "name": "python",
   "nbconvert_exporter": "python",
   "pygments_lexer": "ipython3",
   "version": "3.11.4"
  }
 },
 "nbformat": 4,
 "nbformat_minor": 2
}
